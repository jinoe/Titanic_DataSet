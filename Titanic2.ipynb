{
 "cells": [
  {
   "cell_type": "code",
   "execution_count": 1,
   "metadata": {},
   "outputs": [],
   "source": [
    "import pandas as pd\n",
    "import numpy as np\n",
    "import matplotlib.pyplot as plt"
   ]
  },
  {
   "cell_type": "code",
   "execution_count": 31,
   "metadata": {},
   "outputs": [
    {
     "name": "stderr",
     "output_type": "stream",
     "text": [
      "<ipython-input-31-4a3d6d54c2a3>:17: DataConversionWarning: A column-vector y was passed when a 1d array was expected. Please change the shape of y to (n_samples,), for example using ravel().\n",
      "  rf = RandomForestClassifier(n_estimators=1000,random_state=1).fit(train_data,train_target)\n"
     ]
    }
   ],
   "source": [
    "train_df = pd.read_csv('train.csv')\n",
    "train_df = train_df.drop(['Age','PassengerId','Name','Ticket','Cabin'],axis=1)\n",
    "\n",
    "from sklearn.preprocessing import LabelEncoder\n",
    "encoder = LabelEncoder().fit(train_df.loc[:,'Sex'])\n",
    "train_df.loc[:,'Sex'] = encoder.transform(train_df.loc[:,'Sex'])\n",
    "encoder = LabelEncoder().fit(train_df.loc[:,'Embarked'])\n",
    "train_df.loc[:,'Embarked'] = encoder.transform(train_df.loc[:,'Embarked'])\n",
    "\n",
    "#print(train_df.dtypes)\n",
    "#print(train_df.nunique())\n",
    "\n",
    "train_target = train_df[['Survived']].to_numpy()\n",
    "train_data = train_df.drop(['Survived'],axis=1).to_numpy()\n",
    "#display(train_data)\n",
    "from sklearn.ensemble import RandomForestClassifier\n",
    "rf = RandomForestClassifier(n_estimators=1000,random_state=1).fit(train_data,train_target)\n",
    "#display(train_df)"
   ]
  }
 ],
 "metadata": {
  "interpreter": {
   "hash": "ab3a6c5ad1e8c4480a05b10b8bb1c2db3bc6360fc5ba5f5bb59c3c79a0ea1185"
  },
  "kernelspec": {
   "display_name": "Python 3.8.8 64-bit ('base': conda)",
   "language": "python",
   "name": "python3"
  },
  "language_info": {
   "codemirror_mode": {
    "name": "ipython",
    "version": 3
   },
   "file_extension": ".py",
   "mimetype": "text/x-python",
   "name": "python",
   "nbconvert_exporter": "python",
   "pygments_lexer": "ipython3",
   "version": "3.8.8"
  },
  "orig_nbformat": 4
 },
 "nbformat": 4,
 "nbformat_minor": 2
}
